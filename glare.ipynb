{
 "cells": [
  {
   "cell_type": "code",
   "execution_count": 20,
   "metadata": {},
   "outputs": [],
   "source": [
    "import cv2\n",
    "import numpy as np\n"
   ]
  },
  {
   "cell_type": "code",
   "execution_count": 3,
   "metadata": {},
   "outputs": [],
   "source": [
    "import matplotlib"
   ]
  },
  {
   "cell_type": "code",
   "execution_count": 163,
   "metadata": {},
   "outputs": [],
   "source": [
    "img = cv2.imread(\"/Users/romanisaev/Desktop/data xmashack/example_3.png\", cv2.IMREAD_UNCHANGED)\n",
    "gray = cv2.cvtColor(img, cv2.COLOR_BGR2GRAY)\n"
   ]
  },
  {
   "cell_type": "code",
   "execution_count": 22,
   "metadata": {},
   "outputs": [
    {
     "data": {
      "text/plain": [
       "(3, 3)"
      ]
     },
     "execution_count": 22,
     "metadata": {},
     "output_type": "execute_result"
    }
   ],
   "source": [
    "array = np.array([[1,2,3],\n",
    "                  [4,5,6],\n",
    "                  [7,8,9]])\n",
    "array.shape"
   ]
  },
  {
   "cell_type": "code",
   "execution_count": null,
   "metadata": {},
   "outputs": [],
   "source": [
    "def calc"
   ]
  },
  {
   "cell_type": "code",
   "execution_count": 35,
   "metadata": {},
   "outputs": [
    {
     "data": {
      "text/plain": [
       "array([[False, False,  True],\n",
       "       [ True,  True,  True],\n",
       "       [ True,  True,  True]])"
      ]
     },
     "execution_count": 35,
     "metadata": {},
     "output_type": "execute_result"
    }
   ],
   "source": [
    "c = array.max() - array.min()\n",
    "nu = (array.max() + array.min())/2\n",
    "c_star = 4\n",
    "Ic = 3\n",
    "first_cond, second_cond = np.logical_and(array >= nu, c < c_star), np.logical_and(array >= Ic, c >= c_star)\n",
    "mask_M = np.logical_or(first_cond, second_cond)\n",
    "mask_M\n",
    "\n"
   ]
  },
  {
   "cell_type": "code",
   "execution_count": 37,
   "metadata": {},
   "outputs": [],
   "source": [
    "def calc_bernsen_mask(array, c_star, Ic):\n",
    "    c = array.max() - array.min()\n",
    "    nu = (array.max() + array.min())/2\n",
    "    print(f'c: {c}, nu: {nu}')\n",
    "    first_cond, second_cond = np.logical_and(array >= nu, c < c_star), np.logical_and(array >= Ic, c >= c_star)\n",
    "    mask_M = np.logical_or(first_cond, second_cond)\n",
    "    return mask_M\n",
    "\n",
    "def calc_bernsen_pixel(array, i, j, c_star, Ic):\n",
    "    c = array.max() - array.min()\n",
    "    #nu = array.mean()\n",
    "    nu = (array.max() + array.min())/2\n",
    "    if (array[i][i] >= nu and c < c_star) or (c >= c_star and array[i][i] >= Ic):\n",
    "        return 1\n",
    "    else:\n",
    "        return 0"
   ]
  },
  {
   "cell_type": "code",
   "execution_count": 114,
   "metadata": {},
   "outputs": [],
   "source": [
    "def save_mask_png(array, name):\n",
    "    imgRow=np.size(array, 0)\n",
    "    imgCol=np.size(array, 1)\n",
    "    rgbMask = np.zeros([imgRow, imgCol, 3], dtype = np.int64)\n",
    "    rgbMask[:,:,0] = rgbMask[:,:,1] = rgbMask[:,:,2] = array*255\n",
    "    cv2.imwrite(f'{name}.png', rgbMask)\n",
    "    "
   ]
  },
  {
   "cell_type": "code",
   "execution_count": 115,
   "metadata": {},
   "outputs": [],
   "source": [
    "def calc_N_mask(array):\n",
    "    return array > (array.max()*0.99)\n"
   ]
  },
  {
   "cell_type": "code",
   "execution_count": 164,
   "metadata": {},
   "outputs": [],
   "source": [
    "from matplotlib import pyplot as plt\n",
    "import cv2\n",
    "\n",
    "img = cv2.imread(\"/Users/romanisaev/Desktop/data xmashack/example_3.png\", cv2.IMREAD_UNCHANGED)\n",
    "gray = cv2.cvtColor(img, cv2.COLOR_BGR2GRAY)\n",
    "\n"
   ]
  },
  {
   "cell_type": "code",
   "execution_count": 55,
   "metadata": {},
   "outputs": [
    {
     "data": {
      "text/plain": [
       "2234"
      ]
     },
     "execution_count": 55,
     "metadata": {},
     "output_type": "execute_result"
    }
   ],
   "source": [
    "np.size(img, 0)\n"
   ]
  },
  {
   "cell_type": "code",
   "execution_count": 165,
   "metadata": {},
   "outputs": [
    {
     "name": "stdout",
     "output_type": "stream",
     "text": [
      "c: 255, nu: 127.5\n"
     ]
    }
   ],
   "source": [
    "mask1 = calc_bernsen_mask(gray, 220, 240)\n",
    "mask2 = calc_N_mask(gray)\n",
    "save_mask_png(mask1, 'M')\n",
    "save_mask_png(mask2, 'N')"
   ]
  },
  {
   "cell_type": "code",
   "execution_count": 170,
   "metadata": {},
   "outputs": [
    {
     "data": {
      "text/plain": [
       "array([[False, False, False, ..., False, False, False],\n",
       "       [False, False, False, ..., False, False, False],\n",
       "       [False, False, False, ..., False, False, False],\n",
       "       ...,\n",
       "       [False, False, False, ..., False, False, False],\n",
       "       [False, False, False, ..., False, False, False],\n",
       "       [False, False, False, ..., False, False, False]])"
      ]
     },
     "execution_count": 170,
     "metadata": {},
     "output_type": "execute_result"
    }
   ],
   "source": [
    "mask1"
   ]
  },
  {
   "cell_type": "code",
   "execution_count": 169,
   "metadata": {},
   "outputs": [
    {
     "data": {
      "text/plain": [
       "array([[ 0,  0,  0, ...,  0,  0,  0],\n",
       "       [ 0,  0,  0, ...,  0,  0,  0],\n",
       "       [ 0,  0,  0, ...,  0,  0,  0],\n",
       "       ...,\n",
       "       [60, 60, 60, ..., 49, 49, 49],\n",
       "       [60, 60, 60, ..., 49, 49, 49],\n",
       "       [60, 60, 60, ..., 49, 49, 49]], dtype=uint16)"
      ]
     },
     "execution_count": 169,
     "metadata": {},
     "output_type": "execute_result"
    }
   ],
   "source": [
    "np.where(mask1==True, 1, img[:,:,0])"
   ]
  },
  {
   "cell_type": "code",
   "execution_count": 171,
   "metadata": {},
   "outputs": [
    {
     "data": {
      "text/plain": [
       "True"
      ]
     },
     "execution_count": 171,
     "metadata": {},
     "output_type": "execute_result"
    }
   ],
   "source": [
    "imgRow=np.size(mask1, 0)\n",
    "imgCol=np.size(mask1, 1)\n",
    "rgbMask = np.zeros([imgRow, imgCol, 3], dtype = np.int64)\n",
    "rgbMask[:,:, 1] = np.where(mask1==True, 0, img[:,:,1])\n",
    "rgbMask[:,:, 2] = np.where(mask1==True, 0, img[:,:,2])\n",
    "rgbMask[:,:, 0] = np.where(mask1==True, 255, img[:,:,0])\n",
    "\n",
    "\n",
    "\n",
    "cv2.imwrite(f'colored_M.png', rgbMask)"
   ]
  },
  {
   "cell_type": "code",
   "execution_count": 157,
   "metadata": {},
   "outputs": [
    {
     "data": {
      "text/plain": [
       "173382"
      ]
     },
     "execution_count": 157,
     "metadata": {},
     "output_type": "execute_result"
    }
   ],
   "source": [
    "(rgbMask[:,:,0] == 1).sum()"
   ]
  },
  {
   "cell_type": "code",
   "execution_count": 122,
   "metadata": {},
   "outputs": [],
   "source": [
    "(numLabels, labels, stats, centroids) = cv2.connectedComponentsWithStats(np.logical_or(mask1, mask2).astype(np.int8), connectivity=8)"
   ]
  },
  {
   "cell_type": "code",
   "execution_count": 123,
   "metadata": {},
   "outputs": [],
   "source": [
    "mask3 = (labels >= 1).astype(np.int8)\n",
    "save_mask_png(mask3, 'P')"
   ]
  },
  {
   "cell_type": "code",
   "execution_count": 149,
   "metadata": {},
   "outputs": [],
   "source": [
    "def get_R_mask(rgb_img, C):\n",
    "    b,g,r = rgb_img[:,:,0], rgb_img[:,:,1], rgb_img[:,:,2]\n",
    "    first = (np.abs(r-g) + np.abs(g-b) + np.abs(b-r)) < C\n",
    "    second = np.logical_or(np.logical_or(r > 0.8*r.max(), g > 0.8*g.max()), b > 0.8*b.max())\n",
    "    return np.logical_and(first, second)\n",
    "    "
   ]
  },
  {
   "cell_type": "code",
   "execution_count": 150,
   "metadata": {},
   "outputs": [
    {
     "name": "stdout",
     "output_type": "stream",
     "text": [
      "522055\n"
     ]
    }
   ],
   "source": [
    "mask4 = get_R_mask(img, 0.000001)\n",
    "print(mask4.sum())\n",
    "save_mask_png(mask4, 'R')\n"
   ]
  },
  {
   "cell_type": "code",
   "execution_count": 147,
   "metadata": {},
   "outputs": [
    {
     "data": {
      "text/plain": [
       "array([[ True,  True,  True, ...,  True,  True,  True],\n",
       "       [ True,  True,  True, ...,  True,  True,  True],\n",
       "       [ True,  True,  True, ...,  True,  True,  True],\n",
       "       ...,\n",
       "       [ True,  True,  True, ...,  True,  True,  True],\n",
       "       [ True,  True,  True, ...,  True,  True,  True],\n",
       "       [ True,  True,  True, ...,  True,  True,  True]])"
      ]
     },
     "execution_count": 147,
     "metadata": {},
     "output_type": "execute_result"
    }
   ],
   "source": [
    "mask4"
   ]
  },
  {
   "cell_type": "code",
   "execution_count": 112,
   "metadata": {},
   "outputs": [
    {
     "name": "stdout",
     "output_type": "stream",
     "text": [
      "imgRow:2234, imgCol:3456\n",
      "shape: (2234, 3456, 4)\n"
     ]
    },
    {
     "data": {
      "text/plain": [
       "True"
      ]
     },
     "execution_count": 112,
     "metadata": {},
     "output_type": "execute_result"
    }
   ],
   "source": [
    "imgRow=np.size(img, 0)\n",
    "imgCol=np.size(img, 1)\n",
    "print(\"imgRow:%d, imgCol:%d\" % (imgRow, imgCol))\n",
    "print(\"shape:\", img.shape)\n",
    "\n",
    "rgbMask = np.zeros([imgRow, imgCol, 3], dtype = np.int64)\n",
    "rgbMask[:,:,0] = rgbMask[:,:,1] = rgbMask[:,:,2] = mask3*255\n",
    "cv2.imwrite('py_sh_out_01.png', rgbMask)\n",
    "\n"
   ]
  },
  {
   "cell_type": "code",
   "execution_count": null,
   "metadata": {},
   "outputs": [],
   "source": []
  }
 ],
 "metadata": {
  "kernelspec": {
   "display_name": "Xmashack_2023-JWZZI8rR",
   "language": "python",
   "name": "python3"
  },
  "language_info": {
   "codemirror_mode": {
    "name": "ipython",
    "version": 3
   },
   "file_extension": ".py",
   "mimetype": "text/x-python",
   "name": "python",
   "nbconvert_exporter": "python",
   "pygments_lexer": "ipython3",
   "version": "3.9.13"
  }
 },
 "nbformat": 4,
 "nbformat_minor": 2
}
